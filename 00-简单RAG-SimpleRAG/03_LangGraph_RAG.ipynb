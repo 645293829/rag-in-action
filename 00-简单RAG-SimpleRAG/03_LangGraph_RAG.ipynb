{
 "cells": [
  {
   "cell_type": "code",
   "execution_count": 11,
   "id": "1fefeded-cf10-4a60-b969-cb7c120b0052",
   "metadata": {},
   "outputs": [],
   "source": [
    "# 1. 加载文档\n",
    "from langchain_community.document_loaders import WebBaseLoader\n",
    "loader = WebBaseLoader(\n",
    "    web_paths=(\"https://zh.wikipedia.org/wiki/%E9%BB%91%E7%A5%9E%E8%AF%9D%EF%BC%9A%E6%82%9F%E7%A9%BA\",)\n",
    ")\n",
    "docs = loader.load()"
   ]
  },
  {
   "cell_type": "code",
   "execution_count": 2,
   "id": "046fb560-4ec0-4b25-92a2-a091b103d0ae",
   "metadata": {},
   "outputs": [],
   "source": [
    "# 2. 文档分块\n",
    "from langchain_text_splitters import RecursiveCharacterTextSplitter\n",
    "text_splitter = RecursiveCharacterTextSplitter(chunk_size=1000, chunk_overlap=200)\n",
    "all_splits = text_splitter.split_documents(docs)"
   ]
  },
  {
   "cell_type": "code",
   "execution_count": 3,
   "id": "e4e82774-268d-4549-906a-8447d310846d",
   "metadata": {},
   "outputs": [
    {
     "name": "stderr",
     "output_type": "stream",
     "text": [
      "/mnt/external_disk/venv/20250203_LangChain/lib/python3.10/site-packages/tqdm/auto.py:21: TqdmWarning: IProgress not found. Please update jupyter and ipywidgets. See https://ipywidgets.readthedocs.io/en/stable/user_install.html\n",
      "  from .autonotebook import tqdm as notebook_tqdm\n"
     ]
    }
   ],
   "source": [
    "# 3. 设置嵌入模型\n",
    "from langchain_huggingface import HuggingFaceEmbeddings\n",
    "embeddings = HuggingFaceEmbeddings(\n",
    "    model_name=\"BAAI/bge-small-zh-v1.5\",\n",
    "    model_kwargs={'device': 'cpu'},\n",
    "    encode_kwargs={'normalize_embeddings': True}\n",
    ")"
   ]
  },
  {
   "cell_type": "code",
   "execution_count": 4,
   "id": "d5d8cb6e-286f-4e86-94a3-0ce0bc3d812d",
   "metadata": {},
   "outputs": [
    {
     "data": {
      "text/plain": [
       "['5eb00e34-6656-4dac-91c0-f25335d32219',\n",
       " '89a2c3b9-d7e7-42b6-8940-37ecab9aa16d',\n",
       " 'e894828c-356f-4b26-a14b-fbc866fa7960',\n",
       " 'e4ed714d-972e-4418-951a-7a07391587aa',\n",
       " '3f1edcf3-84f2-4e53-99e7-56cbd4625fad',\n",
       " '665b26f4-23a2-4b18-bbf5-ad0ec2b49d8b',\n",
       " '4b1dabaa-6583-4fe5-86d1-738c3d99fcb0',\n",
       " 'a04569ab-9c07-4af3-a8f3-d5eea8b24d61',\n",
       " 'af638a5a-bf07-454b-9a35-6f3895325beb',\n",
       " 'ace8a5db-f96f-4fab-8df6-03992ce80080',\n",
       " '835653f8-af02-4861-9d2f-d7272f661ef6',\n",
       " 'bd0cc933-0129-4f5b-accc-b9e2605f3aa2',\n",
       " '90b21e78-bbcf-4d5e-9e07-44ea48acbbdc',\n",
       " '1b8abc71-ae75-4900-838c-17ca52f3ec50',\n",
       " 'e18caa96-772d-41db-a512-fca1014d97bd',\n",
       " 'd80457a1-9007-4d14-b16e-6d410939395b',\n",
       " 'b2816fa7-e383-442a-b257-5e4783500411',\n",
       " 'e8ffc1b6-15da-4ec4-b478-a3b138979f75',\n",
       " '4cbdd7db-a1ec-445a-84b4-100d026663b1',\n",
       " 'e614f9b6-5f48-4d3a-9381-f53b36d8ba9d',\n",
       " '94187d0b-5521-4930-bda5-9d6dc4560def',\n",
       " '18f47635-14d8-4efb-998a-5ff4e3f53ef1',\n",
       " 'dd8a4907-e0bc-4089-9389-9a15b6482620',\n",
       " '82698303-c430-408a-bee3-fb70bf766e93',\n",
       " '2aa7fe08-8029-42d8-8df9-3ff09e91ef02',\n",
       " '7833b34d-7249-4f57-b7c7-3af6059e3e05',\n",
       " '8c956b05-aece-427e-ad8d-bcfe636fb0a9',\n",
       " 'ef39175a-df07-43d3-9579-2239cd852c64',\n",
       " 'a390f0d9-a420-4911-8fc6-2cd11a8ef144',\n",
       " '6f3f2345-50a8-438c-868d-99cb758abab6',\n",
       " '0b8ece5d-336a-4d2a-b21f-427ebfabce52',\n",
       " '47b81296-eb47-47d2-89f3-031f0abc4572',\n",
       " 'b6a43130-32e9-4f1b-923b-1d321feefb9b',\n",
       " 'f57804bd-e1a9-4678-9688-2b442e642454',\n",
       " '044c44c5-a156-4b50-aa35-e121014511aa',\n",
       " 'e614d010-7787-49b0-8ae2-b7c5a03348aa',\n",
       " '5fb26376-8e8d-4de8-a318-a2a55f72b2f4',\n",
       " '168f9140-0df5-41f1-9018-c25629ece63a',\n",
       " '210e045d-cf9e-42c5-b48b-f5bea5d635c8',\n",
       " '773e1458-d759-4eda-93dd-558755bdb603',\n",
       " '387dd270-0de4-4375-9845-8b470ff88183',\n",
       " '1cf3ac08-05a0-4486-af0f-0a7e3ae5baea',\n",
       " '189c1de5-b663-4039-8b39-8df1f46f98db',\n",
       " '3736b51b-f7aa-441b-b559-c469e033a80a',\n",
       " 'ca0f7285-5cef-40d0-94bd-7d56be94ea6f',\n",
       " '5ccb23c1-c8d2-4121-982d-46ede83015a7',\n",
       " '9d4778ba-7ac1-42a9-8752-352bb85eaab4',\n",
       " '66c4ed9c-e710-4067-8a25-4335dc608cd9',\n",
       " '476a893e-3b3f-4a4b-9962-7e81d8782ccd',\n",
       " '4eae2a8c-16c7-479b-81be-ac111f6caaa8',\n",
       " '8ae07512-82a9-4c35-9d3c-3765213b5838',\n",
       " 'fb659edb-3855-44e4-9d8f-d0c7892c867e',\n",
       " '0eb858c0-8906-4943-ae23-02b263671825',\n",
       " '500fa746-bcb6-4291-8bf7-308a08ab8caf',\n",
       " '61f3ebef-f12a-412d-abba-099b20f14958',\n",
       " 'ebf0420e-b8a0-47ea-a0b2-b7112a830559',\n",
       " '0ee3029d-2216-49ed-aece-92589b1e41ac',\n",
       " 'c803029a-c4ba-41ff-8346-87f0ee1980c0',\n",
       " 'f7a2331b-cd66-4248-a0bc-d33879f0af54',\n",
       " 'ef65e145-b5fd-4c82-9fd2-785d34cc870b',\n",
       " 'bfb29032-b44a-49cd-8c06-45ffe3fd6ab0',\n",
       " 'a5e6933b-bd50-456c-ad7f-0f9e0c3bfd42',\n",
       " '127debfd-80b6-40a1-a29a-5b24e8634888',\n",
       " 'e0e4518d-052e-4f74-83f7-3db27693d63a',\n",
       " 'a6feb1ac-f00d-4f78-8ba2-35612f59fc02',\n",
       " '9463f2c1-74c9-4961-8f9d-01dfcd7c5cfa',\n",
       " 'c489019d-93ac-4149-a5e9-99309a3b0d08',\n",
       " 'a35754a3-344d-400b-9b4b-262f2fad8594',\n",
       " '7e10ffd7-3f56-4e68-bec5-c414d11df7de']"
      ]
     },
     "execution_count": 4,
     "metadata": {},
     "output_type": "execute_result"
    }
   ],
   "source": [
    "# 4. 创建向量存储\n",
    "from langchain_core.vectorstores import InMemoryVectorStore\n",
    "vector_store = InMemoryVectorStore(embeddings)\n",
    "vector_store.add_documents(all_splits)"
   ]
  },
  {
   "cell_type": "code",
   "execution_count": 5,
   "id": "5174db19-f845-4e7e-a86c-00c1eadf1bd9",
   "metadata": {},
   "outputs": [
    {
     "name": "stderr",
     "output_type": "stream",
     "text": [
      "/mnt/external_disk/venv/20250203_LangChain/lib/python3.10/site-packages/langsmith/client.py:253: LangSmithMissingAPIKeyWarning: API key must be provided when using hosted LangSmith API\n",
      "  warnings.warn(\n"
     ]
    }
   ],
   "source": [
    "# 5. 定义RAG提示词\n",
    "from langchain import hub\n",
    "prompt = hub.pull(\"rlm/rag-prompt\")"
   ]
  },
  {
   "cell_type": "code",
   "execution_count": 6,
   "id": "97f96b94-a43a-4737-aa90-c0c24ed337c7",
   "metadata": {},
   "outputs": [],
   "source": [
    "# 6. 定义应用状态\n",
    "from typing import List\n",
    "from typing_extensions import TypedDict\n",
    "from langchain_core.documents import Document\n",
    "class State(TypedDict):\n",
    "    question: str\n",
    "    context: List[Document]\n",
    "    answer: str"
   ]
  },
  {
   "cell_type": "code",
   "execution_count": 7,
   "id": "d07b5a8e-7592-4135-a1ca-51f3ca71c91e",
   "metadata": {},
   "outputs": [],
   "source": [
    "# 7. 定义检索步骤\n",
    "def retrieve(state: State):\n",
    "    retrieved_docs = vector_store.similarity_search(state[\"question\"])\n",
    "    return {\"context\": retrieved_docs}"
   ]
  },
  {
   "cell_type": "code",
   "execution_count": 8,
   "id": "22a62256-00e4-464e-8cee-46559757bcd9",
   "metadata": {},
   "outputs": [],
   "source": [
    "# 8. 定义生成步骤\n",
    "def generate(state: State):\n",
    "    from langchain_openai import ChatOpenAI\n",
    "    llm = ChatOpenAI(model=\"gpt-4\")\n",
    "    docs_content = \"\\n\\n\".join(doc.page_content for doc in state[\"context\"])\n",
    "    messages = prompt.invoke({\"question\": state[\"question\"], \"context\": docs_content})\n",
    "    response = llm.invoke(messages)\n",
    "    return {\"answer\": response.content}"
   ]
  },
  {
   "cell_type": "code",
   "execution_count": 9,
   "id": "d4e808fc-5110-4488-bce0-03af79564b49",
   "metadata": {},
   "outputs": [
    {
     "data": {
      "image/png": "[encoded data removed]",
      "text/plain": [
       "<IPython.core.display.Image object>"
      ]
     },
     "metadata": {},
     "output_type": "display_data"
    }
   ],
   "source": [
    "# 9. 构建和编译应用\n",
    "from langgraph.graph import START, StateGraph\n",
    "graph = (\n",
    "    StateGraph(State)\n",
    "    .add_sequence([retrieve, generate])\n",
    "    .add_edge(START, \"retrieve\")\n",
    "    .compile()\n",
    ")\n",
    "\n",
    "# 显示图结构\n",
    "from IPython.display import Image, display\n",
    "from langchain_core.runnables.graph import CurveStyle, MermaidDrawMethod, NodeStyles\n",
    "\n",
    "display(\n",
    "    Image(\n",
    "        graph.get_graph().draw_mermaid_png(\n",
    "            draw_method=MermaidDrawMethod.API,\n",
    "        )\n",
    "    )\n",
    ")"
   ]
  },
  {
   "cell_type": "code",
   "execution_count": 10,
   "id": "ba5cf622-3fdc-4090-a2f8-355ac5b728e5",
   "metadata": {},
   "outputs": [
    {
     "name": "stdout",
     "output_type": "stream",
     "text": [
      "\n",
      "问题: 黑悟空有哪些游戏场景？\n",
      "答案: 《黑神话：悟空》的游戏中，包含了很多中国文化和自然地标的元素，如大足石刻、小西天、南禅寺、铁佛寺、广胜寺和鹳雀楼等。游戏的章节设置也可能对应不同的游戏场景，包括“火照黑云”、“风起黄昏”、“夜生白露”、“曲度紫鸳”、“日落红尘”和“未竟”。游戏的进程大多是线性的，但也有较为宽阔的区域供玩家探索。\n"
     ]
    }
   ],
   "source": [
    "# 10. 运行查询\n",
    "question = \"黑悟空有哪些游戏场景？\"\n",
    "response = graph.invoke({\"question\": question})\n",
    "print(f\"\\n问题: {question}\")\n",
    "print(f\"答案: {response['answer']}\")"
   ]
  },
  {
   "cell_type": "code",
   "execution_count": null,
   "id": "7b701ed9-2058-4909-94f9-a308ed524df5",
   "metadata": {},
   "outputs": [],
   "source": []
  }
 ],
 "metadata": {
  "kernelspec": {
   "display_name": "Python 3 (20250203_LangChain)",
   "language": "python",
   "name": "20250203_langchain"
  },
  "language_info": {
   "codemirror_mode": {
    "name": "ipython",
    "version": 3
   },
   "file_extension": ".py",
   "mimetype": "text/x-python",
   "name": "python",
   "nbconvert_exporter": "python",
   "pygments_lexer": "ipython3",
   "version": "3.10.12"
  }
 },
 "nbformat": 4,
 "nbformat_minor": 5
}
